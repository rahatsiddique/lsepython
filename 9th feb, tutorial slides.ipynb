{
 "cells": [
  {
   "cell_type": "markdown",
   "metadata": {
    "slideshow": {
     "slide_type": "slide"
    }
   },
   "source": [
    "# LSE Department of Economics\n",
    "\n",
    "# Python Weekend\n",
    "\n",
    "--------\n",
    "\n",
    "9th February 2020"
   ]
  },
  {
   "cell_type": "markdown",
   "metadata": {},
   "source": [
    "# (slightly past) half-way reflections \n",
    "\n",
    "* One new thing that you've learnt so far \n",
    "* The panel - main takeaway "
   ]
  },
  {
   "cell_type": "markdown",
   "metadata": {
    "slideshow": {
     "slide_type": "slide"
    }
   },
   "source": [
    "# What next for LSE Python for Economics?\n",
    "\n",
    "\n",
    "* This is is just one milestone on your python journey.\n",
    "\n",
    "* Skills not content: The best programmers are often the ones who are self-taught. They are resilient and good problem-solvers. \n",
    "\n",
    "* Python won’t end here. We’re hoping to continue this with ad hoc meet-ups and events throughout the year. \n",
    "\n",
    "\n",
    "Watch this space and keep in touch on Slack! "
   ]
  },
  {
   "cell_type": "markdown",
   "metadata": {
    "slideshow": {
     "slide_type": "slide"
    }
   },
   "source": [
    "# Further Resources\n",
    "\n",
    "PyCon is an annual conference for Python developers. PyData also have their own meet-ups and conferences\n",
    "\n",
    "Scholarships are available for under-represented groups\n",
    "\n",
    "1. pyconuk.org\n",
    "2. europython.eu\n",
    "3. london.pydata.org \n",
    "\n",
    "Resources for learning more Python:\n",
    "\n",
    "* RealPython.com: Lots of articles and how-tos for Python\n",
    "* Book deals on Humble Bundle (O'Reilly and NoStarchPress do these one/twice a year)\n",
    "* Codecademy, Kaggle and DataCamp have free online Python courses"
   ]
  },
  {
   "cell_type": "markdown",
   "metadata": {
    "slideshow": {
     "slide_type": "slide"
    }
   },
   "source": [
    "# More Libraries\n",
    "A vast amount of other libraries are available, that we will not have time to cover in this workshop. Here are some useful ones\n",
    "\n",
    "* Beautiful Soup for web scraping\n",
    "* statsmodels for econometrics\n",
    "* pyfinance for finance\n",
    "* pyfolio for portfolio analysis\n",
    "\n",
    "\n",
    "APIs\n",
    "* GoogleFinance/ YahooFinance for financial data\n",
    "* fred wrapper for the FRED database (St Louis Fed)\n",
    "* Tweepy for Twitter\n",
    "* PyTrends for GoogleTrends and the Officieal Google API"
   ]
  },
  {
   "cell_type": "code",
   "execution_count": null,
   "metadata": {},
   "outputs": [],
   "source": []
  }
 ],
 "metadata": {
  "celltoolbar": "Slideshow",
  "kernelspec": {
   "display_name": "Python 3",
   "language": "python",
   "name": "python3"
  },
  "language_info": {
   "codemirror_mode": {
    "name": "ipython",
    "version": 3
   },
   "file_extension": ".py",
   "mimetype": "text/x-python",
   "name": "python",
   "nbconvert_exporter": "python",
   "pygments_lexer": "ipython3",
   "version": "3.7.1"
  }
 },
 "nbformat": 4,
 "nbformat_minor": 2
}
