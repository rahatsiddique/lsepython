{
 "cells": [
  {
   "cell_type": "markdown",
   "metadata": {
    "slideshow": {
     "slide_type": "slide"
    }
   },
   "source": [
    "# LSE Department of Economics\n",
    "\n",
    "# Python Weekend: Day 2\n",
    "\n",
    "--------\n",
    "\n",
    "Rahat Siddique\n",
    "\n",
    "February 2020"
   ]
  },
  {
   "cell_type": "markdown",
   "metadata": {
    "slideshow": {
     "slide_type": "slide"
    }
   },
   "source": [
    "# Half-way reflections \n",
    "\n",
    "1. A new thing that you've learnt so far \n",
    "2. The panel - main takeaway "
   ]
  },
  {
   "cell_type": "markdown",
   "metadata": {
    "slideshow": {
     "slide_type": "slide"
    }
   },
   "source": [
    "# What next for LSE Python for Economics?\n",
    "\n",
    "\n",
    "* This is is just one milestone on your python journey.\n",
    "\n",
    "* Skills not content: The best programmers are often the ones who are self-taught. They are resilient and good problem-solvers. \n",
    "\n",
    "* Python won’t end here. We’re hoping to continue this with ad hoc meet-ups and events throughout the year. \n",
    "\n",
    "\n",
    "Watch this space and keep in touch on Slack! "
   ]
  },
  {
   "cell_type": "markdown",
   "metadata": {
    "slideshow": {
     "slide_type": "slide"
    }
   },
   "source": [
    "# Further Resources\n",
    "\n",
    "Resources for learning more Python:\n",
    "\n",
    "* RealPython.com: Lots of articles and how-tos for Python\n",
    "* Tutorialspoint.com\n",
    "* Learn Python the Hard Way (Book) \n",
    "* Data Science from Scratch (Book) \n",
    "* Python for Data Analysis (Book) \n",
    "* automatetheboringstuff.com \n",
    "* Codecademy, Kaggle and DataCamp have free online Python courses\n",
    "\n",
    "Economics specific resources:\n",
    "* QuantEcon - lectures on economic modelling. [here](\"https://python.quantecon.org/\")\n",
    "* Applied Computational Economics and Finance (Book) "
   ]
  },
  {
   "cell_type": "markdown",
   "metadata": {
    "slideshow": {
     "slide_type": "slide"
    }
   },
   "source": [
    "# More on Libraries\n",
    "A vast number of other libraries are available, many of which you may not ever need to use. As you have seen, specific libraries are needed for particular tasks. \n",
    "\n",
    "Here are some useful ones:\n",
    "\n",
    "* beautiful soup for web scraping\n",
    "* scrapy for web scraping \n",
    "* statsmodels for statistics and econometrics\n",
    "* pyfinance for finance\n",
    "* pyfolio for portfolio analysis\n",
    "* requests for using APIs \n"
   ]
  },
  {
   "cell_type": "markdown",
   "metadata": {
    "slideshow": {
     "slide_type": "slide"
    }
   },
   "source": [
    "# Application Programming Interfaces (APIs)\n",
    "\n",
    "Note: We will not have time to cover APIs in this workshop, but the content below explains how they are useful and some of the websites you may wish you explore in the future. \n",
    "\n",
    "Many websites and web services provide application programming interfaces (APIs), which allow you to explicitly request data in a structured format. This saves you the trouble of having to scrape them!\n",
    "\n",
    "__Application Programming Interface (API)__: A way for different programs to interact. For example they can send data to one another.\n",
    "\n",
    "Web APIs allow you to interact with other programs over the internet.\n"
   ]
  },
  {
   "cell_type": "markdown",
   "metadata": {
    "slideshow": {
     "slide_type": "slide"
    }
   },
   "source": [
    "__API Request__: When your program asks an API for some or to complete a specific action\n",
    "\n",
    "__API Response__: The result of your request from the API\n",
    "\n",
    "The requests library allows Python code to communicate with external Web APIs. Web APIs can be used to retrieve data from data sources on the internet.\n",
    "\n",
    "If you need data from a specific site, look for a developers or API section of the site for details, and try searching the Web for “python __ api” to find a library. \n"
   ]
  },
  {
   "cell_type": "markdown",
   "metadata": {
    "slideshow": {
     "slide_type": "slide"
    }
   },
   "source": [
    "### Useful APIs to get started \n",
    "* GoogleFinance/ YahooFinance for financial data\n",
    "* fred wrapper for the FRED database (St Louis Fed)\n",
    "* ONS for UK national statistics \n",
    "* Twitter for real time news\n",
    "* PyTrends for GoogleTrends and the Officieal Google API"
   ]
  },
  {
   "cell_type": "markdown",
   "metadata": {
    "slideshow": {
     "slide_type": "slide"
    }
   },
   "source": [
    "# Python Events\n",
    "\n",
    "PyCon is an annual conference for Python developers. PyData also have their own meet-ups and conferences.\n",
    "\n",
    "Scholarships are available for under-represented groups\n",
    "\n",
    "1. pyconuk.org\n",
    "2. europython.eu\n",
    "3. london.pydata.org \n"
   ]
  }
 ],
 "metadata": {
  "celltoolbar": "Slideshow",
  "kernelspec": {
   "display_name": "Python 3",
   "language": "python",
   "name": "python3"
  },
  "language_info": {
   "codemirror_mode": {
    "name": "ipython",
    "version": 3
   },
   "file_extension": ".py",
   "mimetype": "text/x-python",
   "name": "python",
   "nbconvert_exporter": "python",
   "pygments_lexer": "ipython3",
   "version": "3.7.1"
  }
 },
 "nbformat": 4,
 "nbformat_minor": 2
}
